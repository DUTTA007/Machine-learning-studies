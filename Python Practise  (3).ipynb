{
 "cells": [
  {
   "cell_type": "markdown",
   "metadata": {},
   "source": [
    "# Write a Python program to get the string from the given string where all the occurrence of its first char has been changed to $, except first char itself?"
   ]
  },
  {
   "cell_type": "code",
   "execution_count": 1,
   "metadata": {},
   "outputs": [
    {
     "name": "stdout",
     "output_type": "stream",
     "text": [
      "prospect\n"
     ]
    },
    {
     "data": {
      "text/plain": [
       "'pros$ect'"
      ]
     },
     "execution_count": 1,
     "metadata": {},
     "output_type": "execute_result"
    }
   ],
   "source": [
    "def occurance(string):\n",
    "    char = string[0]\n",
    "    string = string.replace(char,'$')\n",
    "    string = char + string[1:]\n",
    "    return string\n",
    "occurance(input(string))"
   ]
  },
  {
   "cell_type": "markdown",
   "metadata": {},
   "source": [
    "# Write a Python program to get the single string from the two given strings, and separated by the space and swap the first two characters of each string?"
   ]
  },
  {
   "cell_type": "code",
   "execution_count": 2,
   "metadata": {},
   "outputs": [
    {
     "name": "stdout",
     "output_type": "stream",
     "text": [
      "abc,xyz\n"
     ]
    },
    {
     "data": {
      "text/plain": [
       "'xyz abc'"
      ]
     },
     "execution_count": 2,
     "metadata": {},
     "output_type": "execute_result"
    }
   ],
   "source": [
    "def seperate(string):\n",
    "    char = string.split(',')\n",
    "    char.reverse()\n",
    "    string = char[0]+ ' ' +char[1]\n",
    "    return string\n",
    "seperate(input(string))"
   ]
  },
  {
   "cell_type": "markdown",
   "metadata": {},
   "source": [
    "# Write the Python program to add 'ing' at the end of the given string (length of the string should be at least 3). If given string already ends with 'ing,' then add 'ly' instead. If string length of the given string is less than 3, leave it unchanged?"
   ]
  },
  {
   "cell_type": "code",
   "execution_count": 3,
   "metadata": {},
   "outputs": [
    {
     "name": "stdout",
     "output_type": "stream",
     "text": [
      "string\n"
     ]
    },
    {
     "data": {
      "text/plain": [
       "'stringly'"
      ]
     },
     "execution_count": 3,
     "metadata": {},
     "output_type": "execute_result"
    }
   ],
   "source": [
    "def adding(string):\n",
    "    if len(string)>2:\n",
    "        if 'ing' in string:\n",
    "            string+= 'ly'\n",
    "        else:\n",
    "            string+= 'ing'\n",
    "    else:\n",
    "        pass\n",
    "    return string\n",
    "adding(input(string))"
   ]
  },
  {
   "cell_type": "markdown",
   "metadata": {},
   "source": [
    "# Write the Python program to find the first appearance of the substring 'not' and 'poor' from the given string, if 'not' follows the 'poor', replace the whole 'not'...' poor' substring with 'good'.Return the resulting string."
   ]
  },
  {
   "cell_type": "code",
   "execution_count": 4,
   "metadata": {},
   "outputs": [
    {
     "name": "stdout",
     "output_type": "stream",
     "text": [
      "The lyrics are not that poor!\n"
     ]
    },
    {
     "data": {
      "text/plain": [
       "'The lyrics are good!'"
      ]
     },
     "execution_count": 4,
     "metadata": {},
     "output_type": "execute_result"
    }
   ],
   "source": [
    "def not_poor(string):  \n",
    "  snot = string.find('not')  \n",
    "  sbad = string.find('poor')  \n",
    "  \n",
    "  if sbad > snot:  \n",
    "    string = string.replace(string[snot:(sbad+4)], 'good')  \n",
    "  \n",
    "  return string\n",
    "not_poor(input(string))"
   ]
  },
  {
   "cell_type": "markdown",
   "metadata": {},
   "source": [
    "# Write the Python program to remove the characters which have odd index values of a given string."
   ]
  },
  {
   "cell_type": "code",
   "execution_count": 14,
   "metadata": {},
   "outputs": [
    {
     "name": "stdout",
     "output_type": "stream",
     "text": [
      "whatsup\n"
     ]
    },
    {
     "data": {
      "text/plain": [
       "'htu'"
      ]
     },
     "execution_count": 14,
     "metadata": {},
     "output_type": "execute_result"
    }
   ],
   "source": [
    "def odd(string):\n",
    "    lst = list(string)\n",
    "    lst = lst[1::2]\n",
    "    string = ''.join([str(elem) for elem in lst])\n",
    "    return string\n",
    "odd(input(string))"
   ]
  },
  {
   "cell_type": "markdown",
   "metadata": {},
   "source": [
    "# Write the Python function to get a string made of 4 copies of the last two characters of the specified string (length must be at least 2)."
   ]
  },
  {
   "cell_type": "code",
   "execution_count": 15,
   "metadata": {},
   "outputs": [
    {
     "name": "stdout",
     "output_type": "stream",
     "text": [
      "python\n"
     ]
    },
    {
     "data": {
      "text/plain": [
       "'onononon'"
      ]
     },
     "execution_count": 15,
     "metadata": {},
     "output_type": "execute_result"
    }
   ],
   "source": [
    "def cop(string):\n",
    "    return string[-2:] * 4\n",
    "cop(input(string))"
   ]
  },
  {
   "cell_type": "markdown",
   "metadata": {},
   "source": [
    "# Write the python function to get a string made of its first three characters of a specified string. If the length of the string is less than 3 then return the original string."
   ]
  },
  {
   "cell_type": "code",
   "execution_count": 17,
   "metadata": {},
   "outputs": [
    {
     "name": "stdout",
     "output_type": "stream",
     "text": [
      "python\n"
     ]
    },
    {
     "data": {
      "text/plain": [
       "'pyt'"
      ]
     },
     "execution_count": 17,
     "metadata": {},
     "output_type": "execute_result"
    }
   ],
   "source": [
    "def three(string):\n",
    "    if len(string)==3:\n",
    "        return string\n",
    "    else:\n",
    "        return string[0:3]\n",
    "three(input(string))"
   ]
  },
  {
   "cell_type": "markdown",
   "metadata": {},
   "source": [
    "# Write the python program to print the following floating numbers up to 2 decimal places?"
   ]
  },
  {
   "cell_type": "code",
   "execution_count": 20,
   "metadata": {},
   "outputs": [
    {
     "name": "stdout",
     "output_type": "stream",
     "text": [
      "85.24562\n"
     ]
    },
    {
     "data": {
      "text/plain": [
       "85.25"
      ]
     },
     "execution_count": 20,
     "metadata": {},
     "output_type": "execute_result"
    }
   ],
   "source": [
    "def floating(num):\n",
    "    return(round(num,2))\n",
    "floating(float(input()))"
   ]
  },
  {
   "cell_type": "markdown",
   "metadata": {},
   "source": [
    "# Write the Python program to format a number with a percentage?"
   ]
  },
  {
   "cell_type": "code",
   "execution_count": 21,
   "metadata": {},
   "outputs": [
    {
     "name": "stdout",
     "output_type": "stream",
     "text": [
      "0.25\n"
     ]
    },
    {
     "data": {
      "text/plain": [
       "'25.0%'"
      ]
     },
     "execution_count": 21,
     "metadata": {},
     "output_type": "execute_result"
    }
   ],
   "source": [
    "def per(num):\n",
    "    return str(num*100) + '%'\n",
    "per(float(input()))"
   ]
  },
  {
   "cell_type": "markdown",
   "metadata": {},
   "source": [
    "# Write the Python program to count occurrences of a substring in a String?"
   ]
  },
  {
   "cell_type": "code",
   "execution_count": 23,
   "metadata": {},
   "outputs": [
    {
     "name": "stdout",
     "output_type": "stream",
     "text": [
      "Enter the string\n",
      "hello boss\n",
      "Enter the sub string\n",
      "hel\n"
     ]
    },
    {
     "data": {
      "text/plain": [
       "1"
      ]
     },
     "execution_count": 23,
     "metadata": {},
     "output_type": "execute_result"
    }
   ],
   "source": [
    "def count_occurances(string,substr):\n",
    "    return string.count(substr)\n",
    "print(\"Enter the string\")\n",
    "string = input()\n",
    "print(\"Enter the sub string\")\n",
    "substr = input()\n",
    "count_occurances(string,substr)"
   ]
  },
  {
   "cell_type": "markdown",
   "metadata": {},
   "source": [
    "# Write the Python program to count repeated characters in a string."
   ]
  },
  {
   "cell_type": "code",
   "execution_count": 30,
   "metadata": {},
   "outputs": [
    {
     "name": "stdout",
     "output_type": "stream",
     "text": [
      "thequickbrownjumpsoverthelazydog\n"
     ]
    },
    {
     "data": {
      "text/plain": [
       "{'t': 2, 'h': 2, 'e': 3, 'u': 2, 'r': 2, 'o': 3}"
      ]
     },
     "execution_count": 30,
     "metadata": {},
     "output_type": "execute_result"
    }
   ],
   "source": [
    "from collections import Counter\n",
    "def repeat(string):\n",
    "    counter = Counter(string)\n",
    "    return dict((k, v) for k, v in counter.items() if v >1)\n",
    "repeat(input())"
   ]
  },
  {
   "cell_type": "markdown",
   "metadata": {},
   "source": [
    "# Write the Python program to print the square and cube symbol in the area of a rectangle and volume of a cylinder?"
   ]
  },
  {
   "cell_type": "code",
   "execution_count": 60,
   "metadata": {},
   "outputs": [
    {
     "name": "stdout",
     "output_type": "stream",
     "text": [
      "Chose 1 for volume of cylinder and 2 for Area of rectangle\n",
      "2\n",
      "You chose Area of rectangle\n",
      "Enter Lenght, Breadth and height\n",
      "10 10 10\n",
      "Area of Rectangle is 3141.59sq cm\n"
     ]
    }
   ],
   "source": [
    "import math\n",
    "def choice(ch):\n",
    "    choices = {1 : 'Volume of cylinder', 2 : 'Area of rectangle'}\n",
    "    return choices.get(ch,\"Wrong choice\")\n",
    "def area(lst):\n",
    "    return round(int(lst[0]) * int(lst[1]) * int(lst[2]),2)\n",
    "def vol(lst):\n",
    "    return round((math.pi)*(int(lst[0])**2)*int(lst[1]),2)\n",
    "print(\"Chose 1 for volume of cylinder and 2 for Area of rectangle\")\n",
    "ch = int(input())\n",
    "print(\"You chose\",choice(ch))\n",
    "if ch == 1:\n",
    "    print(\"Enter Radius and height\")\n",
    "    N = input().split()\n",
    "    print(\"Volume of Cylinder is \"+str(vol(N))+\"cubic cm\")\n",
    "else:\n",
    "    print(\"Enter Length, Breadth and height\")\n",
    "    N = input().split()\n",
    "    print(\"Area of Rectangle is \"+str(vol(N))+\"sq cm\")"
   ]
  },
  {
   "cell_type": "markdown",
   "metadata": {},
   "source": [
    "# Write the Python program to check if a string contains all letters of the alphabet?"
   ]
  },
  {
   "cell_type": "code",
   "execution_count": 1,
   "metadata": {},
   "outputs": [
    {
     "name": "stdout",
     "output_type": "stream",
     "text": [
      "Hello\n"
     ]
    },
    {
     "data": {
      "text/plain": [
       "False"
      ]
     },
     "execution_count": 1,
     "metadata": {},
     "output_type": "execute_result"
    }
   ],
   "source": [
    "def pangram(string):\n",
    "    string = set(string)\n",
    "    if len([ch for ch in string if ord(ch) in range(ord('a'), ord('z')+1)]) == 26:\n",
    "        return True\n",
    "    else:\n",
    "        return False\n",
    "pangram(input())"
   ]
  },
  {
   "cell_type": "markdown",
   "metadata": {},
   "source": [
    "# Write the Python program to find the second most repeated word in a given string?"
   ]
  },
  {
   "cell_type": "code",
   "execution_count": 16,
   "metadata": {},
   "outputs": [
    {
     "name": "stdout",
     "output_type": "stream",
     "text": [
      "Helllooooo\n"
     ]
    },
    {
     "data": {
      "text/plain": [
       "(3, 'l')"
      ]
     },
     "execution_count": 16,
     "metadata": {},
     "output_type": "execute_result"
    }
   ],
   "source": [
    "from collections import Counter\n",
    "def rep(string):\n",
    "    counter = Counter(string)\n",
    "    return sorted((v,k) for (k,v) in counter.items())[-2]\n",
    "rep(input())"
   ]
  },
  {
   "cell_type": "markdown",
   "metadata": {},
   "source": [
    "# Write the Python program to find the minimum window in the given string, which will contains all the characters of another given strings?"
   ]
  },
  {
   "cell_type": "code",
   "execution_count": 21,
   "metadata": {},
   "outputs": [
    {
     "name": "stdout",
     "output_type": "stream",
     "text": [
      "Enter the String\n",
      "PRWSOERIUSFK\n",
      "Enter the pattern\n",
      "OSU\n"
     ]
    },
    {
     "data": {
      "text/plain": [
       "'SOERIU'"
      ]
     },
     "execution_count": 21,
     "metadata": {},
     "output_type": "execute_result"
    }
   ],
   "source": [
    "from collections import Counter, defaultdict \n",
    "  \n",
    "def min_window(string, pattern): \n",
    "      \n",
    "    rdict, count = defaultdict(list), Counter(pattern) \n",
    "    rpos, res = [], \"\"  \n",
    "    for i, c in filter(lambda x: x[1] in pattern, enumerate(string)):  \n",
    "        if len(rdict) == count:  \n",
    "            rpos.remove(rdict.pop(0)) \n",
    "        rdict[i].append(i) \n",
    "        rpos.append(i)  \n",
    "        if (len(rpos) == len(pattern) and\n",
    "           (res ==\"\" or rpos[-1]-rpos[0]<len(res))): \n",
    "            res = string[rpos[0]:rpos[-1]+1]  \n",
    "    return res \n",
    "print(\"Enter the String\")\n",
    "string = input()\n",
    "print(\"Enter the pattern\")\n",
    "pattern = input()\n",
    "min_window(string,pattern)"
   ]
  },
  {
   "cell_type": "markdown",
   "metadata": {},
   "source": [
    "# Write the Python program to count number of substrings from a given string of lowercase alphabets with exactly k distinct (given) characters?"
   ]
  },
  {
   "cell_type": "code",
   "execution_count": 34,
   "metadata": {},
   "outputs": [
    {
     "name": "stdout",
     "output_type": "stream",
     "text": [
      "Enter String and K\n",
      "wolf\n",
      "4\n"
     ]
    },
    {
     "data": {
      "text/plain": [
       "1"
      ]
     },
     "execution_count": 34,
     "metadata": {},
     "output_type": "execute_result"
    }
   ],
   "source": [
    "def dist(string, k): \n",
    "    cnt = [0] * 26 \n",
    "    res = 0\n",
    "    for i in range(0, len(string)): \n",
    "        dist_count = 0 \n",
    "        cnt = [0] * 27\n",
    "        for j in range(i,len(string)):  \n",
    "            if(cnt[ord(string[j]) - 97] == 0): \n",
    "                dist_count += 1\n",
    "            cnt[ord(string[j]) - 97] += 1 \n",
    "            if(dist_count == k): \n",
    "                res += 1\n",
    "            if(dist_count > k): \n",
    "                break\n",
    "  \n",
    "    return res      \n",
    "print(\"Enter String and K\")\n",
    "string, K = input(), int(input())\n",
    "dist(string,K)"
   ]
  },
  {
   "cell_type": "markdown",
   "metadata": {},
   "source": [
    "# Write the Python program to count number of non-empty substrings of the given string?"
   ]
  },
  {
   "cell_type": "code",
   "execution_count": 37,
   "metadata": {},
   "outputs": [
    {
     "name": "stdout",
     "output_type": "stream",
     "text": [
      "w3resource\n"
     ]
    },
    {
     "data": {
      "text/plain": [
       "55"
      ]
     },
     "execution_count": 37,
     "metadata": {},
     "output_type": "execute_result"
    }
   ],
   "source": [
    "def cnt(string):\n",
    "    return int((len(string) * (len(string)+1))/2)\n",
    "cnt(input())"
   ]
  },
  {
   "cell_type": "markdown",
   "metadata": {},
   "source": [
    "# Write the Python program to count number of substrings with same first and last characters of the given string?"
   ]
  },
  {
   "cell_type": "code",
   "execution_count": 43,
   "metadata": {},
   "outputs": [
    {
     "name": "stdout",
     "output_type": "stream",
     "text": [
      "abcd\n"
     ]
    },
    {
     "data": {
      "text/plain": [
       "4"
      ]
     },
     "execution_count": 43,
     "metadata": {},
     "output_type": "execute_result"
    }
   ],
   "source": [
    "def cnt(string):\n",
    "    count = 0\n",
    "    for i in range(len(string)):\n",
    "        for j in range(i,len(string)):\n",
    "            if(string[i]==string[j]):\n",
    "                count+=1\n",
    "    return count\n",
    "cnt(input())"
   ]
  },
  {
   "cell_type": "markdown",
   "metadata": {},
   "source": [
    "# Write the Python program to count the number of strings where the string length is 2 or more, and first and last character are same from a given list of strings."
   ]
  },
  {
   "cell_type": "code",
   "execution_count": 16,
   "metadata": {},
   "outputs": [
    {
     "name": "stdout",
     "output_type": "stream",
     "text": [
      "abc,xyz,wxw,1331\n"
     ]
    },
    {
     "data": {
      "text/plain": [
       "3"
      ]
     },
     "execution_count": 16,
     "metadata": {},
     "output_type": "execute_result"
    }
   ],
   "source": [
    "from collections import Counter\n",
    "def comp(lst):\n",
    "    res = [len(i) for i in lst if len(i)>2]\n",
    "    return max(dict(Counter(res)), key=dict(Counter(res)).get)\n",
    "comp(input().split(','))"
   ]
  },
  {
   "cell_type": "markdown",
   "metadata": {},
   "source": [
    "# Write the Python program to get a list, sorted in increasing order by the last element in each tuple from the given list of non-empty tuples?"
   ]
  },
  {
   "cell_type": "code",
   "execution_count": 29,
   "metadata": {},
   "outputs": [
    {
     "name": "stdout",
     "output_type": "stream",
     "text": [
      "[(2, 1), (1, 2), (2, 3), (4, 4), (2, 5)]\n"
     ]
    }
   ],
   "source": [
    "def last(n): \n",
    "    return n[-1]  \n",
    "  \n",
    "def sort_list_last(tuples):  \n",
    "  return sorted(tuples, key=last)  \n",
    "  \n",
    "print(sort_list_last([(2, 5), (1, 2), (4, 4), (2, 3), (2, 1)])) "
   ]
  },
  {
   "cell_type": "markdown",
   "metadata": {},
   "source": [
    "# Write the Python program to remove duplicates from a list?"
   ]
  },
  {
   "cell_type": "code",
   "execution_count": 27,
   "metadata": {},
   "outputs": [
    {
     "name": "stdout",
     "output_type": "stream",
     "text": [
      "5,10,11,5,11,8,6\n",
      "{'5', '6', '11', '8', '10'}\n"
     ]
    }
   ],
   "source": [
    "N = input().split(',')\n",
    "print(set(N))"
   ]
  },
  {
   "cell_type": "markdown",
   "metadata": {},
   "source": [
    "# Write the Python program to find the list of words that are longer than n from a given list of words?"
   ]
  },
  {
   "cell_type": "code",
   "execution_count": 43,
   "metadata": {},
   "outputs": [
    {
     "name": "stdout",
     "output_type": "stream",
     "text": [
      "2\n",
      "The quick brown fox jumps over the lazy dog\n"
     ]
    },
    {
     "data": {
      "text/plain": [
       "['The', 'quick', 'brown', 'fox', 'jumps', 'over', 'the', 'lazy', 'dog']"
      ]
     },
     "execution_count": 43,
     "metadata": {},
     "output_type": "execute_result"
    }
   ],
   "source": [
    "def words(n,string):\n",
    "    string = \"The quick brown fox jumps over the lazy dog\"\n",
    "    A = string.split()\n",
    "    A = [i for i in A if len(i)>n]\n",
    "    return A\n",
    "words(int(input()),input())"
   ]
  },
  {
   "cell_type": "markdown",
   "metadata": {},
   "source": [
    "# Write the Python program to print a specified list after removing the 0th, 4th, and 5th elements?"
   ]
  },
  {
   "cell_type": "code",
   "execution_count": 47,
   "metadata": {},
   "outputs": [
    {
     "data": {
      "text/plain": [
       "['Green', 'White', 'Black']"
      ]
     },
     "execution_count": 47,
     "metadata": {},
     "output_type": "execute_result"
    }
   ],
   "source": [
    "SampleList = ['Red', 'Green', 'White', 'Black', 'Pink', 'Yellow']\n",
    "[x for (i,x) in enumerate(SampleList) if i not in (0,4,5)]"
   ]
  },
  {
   "cell_type": "markdown",
   "metadata": {},
   "source": [
    "# Write the Python program to generate all permutations of a list in Python?"
   ]
  },
  {
   "cell_type": "code",
   "execution_count": 48,
   "metadata": {},
   "outputs": [
    {
     "name": "stdout",
     "output_type": "stream",
     "text": [
      "1,2,3\n",
      "[('1', '2', '3'), ('1', '3', '2'), ('2', '1', '3'), ('2', '3', '1'), ('3', '1', '2'), ('3', '2', '1')]\n"
     ]
    }
   ],
   "source": [
    "from itertools import permutations \n",
    "l = list(permutations(input().split(','))) \n",
    "print(l)"
   ]
  },
  {
   "cell_type": "markdown",
   "metadata": {},
   "source": [
    "# Write the Python program to convert a pair of values into a sorted unique array?"
   ]
  },
  {
   "cell_type": "code",
   "execution_count": 53,
   "metadata": {},
   "outputs": [
    {
     "data": {
      "text/plain": [
       "[1, 2, 3, 4, 5, 6, 7, 8, 9, 10]"
      ]
     },
     "execution_count": 53,
     "metadata": {},
     "output_type": "execute_result"
    }
   ],
   "source": [
    "input_list = [(1, 2), (3, 4), (1, 2), (5, 6), (7, 8), (1, 2), (3, 4), (3, 4), (7, 8), (9, 10)]\n",
    "sorted(set().union(*input_list))"
   ]
  },
  {
   "cell_type": "markdown",
   "metadata": {},
   "source": [
    "# Write the Python class to convert an integer to a roman numeral and vice versa"
   ]
  },
  {
   "cell_type": "code",
   "execution_count": 57,
   "metadata": {},
   "outputs": [
    {
     "name": "stdout",
     "output_type": "stream",
     "text": [
      "3986\n",
      "IV\n"
     ]
    }
   ],
   "source": [
    "class Coversion:\n",
    "    def IntToRoman(self,num):  \n",
    "        dct = { 1: \"I\", 4: \"IV\", 5: \"V\", 9: \"IX\", 10: \"X\", 40: \"XL\", 50: \"L\", 90: \"XC\", 100: \"C\", 400: \"CD\", 500: \"D\", 900: \"CM\", 1000: \"M\" }\n",
    "        if(num in dct):\n",
    "            return dct[num]\n",
    "\n",
    "        for i in [1000,100,10,1]:\n",
    "            for j in [9*i, 5*i, 4*i, i]:\n",
    "                if(num>=j):\n",
    "                    return itr(j) + itr(num-j)\n",
    "    def RomanToInt(self, s):\n",
    "        rom_val = {'I': 1, 'V': 5, 'X': 10, 'L': 50, 'C': 100, 'D': 500, 'M': 1000}\n",
    "        int_val = 0\n",
    "        for i in range(len(s)):\n",
    "            if i > 0 and rom_val[s[i]] > rom_val[s[i - 1]]:\n",
    "                int_val += rom_val[s[i]] - 2 * rom_val[s[i - 1]]\n",
    "            else:\n",
    "                int_val += rom_val[s[i]]\n",
    "        return int_val\n",
    "print(Coversion().RomanToInt('MMMCMLXXXVI'))\n",
    "print(Coversion().IntToRoman(4))"
   ]
  },
  {
   "cell_type": "markdown",
   "metadata": {},
   "source": [
    "# Write the Python class to find the validity of the string of the parentheses, '(', ')', '{', '}', '[' and '] and the brackets must be closed in the correct order, example - \"()\" and \"()[]{}\" are valid but \"[)\", \"({[)]\" and \"{{{\" are invalid."
   ]
  },
  {
   "cell_type": "code",
   "execution_count": 73,
   "metadata": {},
   "outputs": [
    {
     "name": "stdout",
     "output_type": "stream",
     "text": [
      "{[]{()}\n"
     ]
    },
    {
     "data": {
      "text/plain": [
       "'Invalid'"
      ]
     },
     "execution_count": 73,
     "metadata": {},
     "output_type": "execute_result"
    }
   ],
   "source": [
    "def rem(string):\n",
    "    paranthesis = ['()','{}','[]']\n",
    "    while any(x in string for x in paranthesis): \n",
    "        for i in paranthesis:\n",
    "            string = string.replace(i,'')\n",
    "    if string == '':\n",
    "        return 'Valid'\n",
    "    else:\n",
    "        return 'Invalid'\n",
    "rem(input())"
   ]
  },
  {
   "cell_type": "markdown",
   "metadata": {},
   "source": [
    "# Write the Python class to get all possible unique subsets from a set of distinct integers?"
   ]
  },
  {
   "cell_type": "code",
   "execution_count": 78,
   "metadata": {},
   "outputs": [
    {
     "data": {
      "text/plain": [
       "[[], [6], [5], [5, 6], [4], [4, 6], [4, 5], [4, 5, 6]]"
      ]
     },
     "execution_count": 78,
     "metadata": {},
     "output_type": "execute_result"
    }
   ],
   "source": [
    "def sub_sets(sset):\n",
    "        return subsetsRecur([], sorted(sset))\n",
    "    \n",
    "def subsetsRecur(current, sset):\n",
    "    if sset:\n",
    "        return subsetsRecur(current, sset[1:]) + subsetsRecur(current + [sset[0]], sset[1:])\n",
    "    return [current]\n",
    "\n",
    "sub_sets([4,5,6])"
   ]
  },
  {
   "cell_type": "markdown",
   "metadata": {},
   "source": [
    "# Write the Python class to find a pair of elements (indices of the two numbers) from a given array whose sum equals the specific target number?"
   ]
  },
  {
   "cell_type": "code",
   "execution_count": 89,
   "metadata": {
    "scrolled": false
   },
   "outputs": [
    {
     "data": {
      "text/plain": [
       "(1, 2)"
      ]
     },
     "execution_count": 89,
     "metadata": {},
     "output_type": "execute_result"
    }
   ],
   "source": [
    "def pair(lst,tar):\n",
    "    ldict = { }\n",
    "    for index,value in enumerate(lst):\n",
    "        if tar - value in ldict:\n",
    "            return (ldict[tar-value],index)\n",
    "        ldict[num] = index\n",
    "pair([10,20,10,40,50,60,70],50)"
   ]
  },
  {
   "cell_type": "markdown",
   "metadata": {},
   "source": [
    "# Write the Python class to find the three elements that sum to zero from the set of n real numbers?"
   ]
  },
  {
   "cell_type": "code",
   "execution_count": null,
   "metadata": {},
   "outputs": [],
   "source": []
  }
 ],
 "metadata": {
  "kernelspec": {
   "display_name": "Python 3",
   "language": "python",
   "name": "python3"
  },
  "language_info": {
   "codemirror_mode": {
    "name": "ipython",
    "version": 3
   },
   "file_extension": ".py",
   "mimetype": "text/x-python",
   "name": "python",
   "nbconvert_exporter": "python",
   "pygments_lexer": "ipython3",
   "version": "3.7.1"
  }
 },
 "nbformat": 4,
 "nbformat_minor": 2
}
